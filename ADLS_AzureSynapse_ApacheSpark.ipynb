{
  "nbformat": 4,
  "nbformat_minor": 0,
  "metadata": {
    "colab": {
      "provenance": [],
      "authorship_tag": "ABX9TyOw11zxWorMy2kPLOjgo/ZC",
      "include_colab_link": true
    },
    "kernelspec": {
      "name": "python3",
      "display_name": "Python 3"
    },
    "language_info": {
      "name": "python"
    }
  },
  "cells": [
    {
      "cell_type": "markdown",
      "metadata": {
        "id": "view-in-github",
        "colab_type": "text"
      },
      "source": [
        "<a href=\"https://colab.research.google.com/github/aswinaus/ML/blob/main/ADLS_AzureSynapse_ApacheSpark.ipynb\" target=\"_parent\"><img src=\"https://colab.research.google.com/assets/colab-badge.svg\" alt=\"Open In Colab\"/></a>"
      ]
    },
    {
      "cell_type": "code",
      "execution_count": null,
      "metadata": {
        "id": "_Fr7AxrT5T_r"
      },
      "outputs": [],
      "source": [
        "from pyspark.sql import SparkSession\n",
        "from pyspark.ml.feature import HashingTF, IDF, Tokenizer\n",
        "from pyspark.ml.classification import LogisticRegression\n",
        "from pyspark.ml import Pipeline\n",
        "from pyspark.sql import SparkSession\n",
        "\n",
        "\n",
        "# Initialize SparkSession with Hadoop Azure dependency\n",
        "#spark = SparkSession.builder \\\n",
        "#    .appName(\"DocumentClassification\") \\\n",
        "#    .config(\"spark.jars.packages\", \"org.apache.hadoop:hadoop-azure:3.3.1\") \\\n",
        "#    .getOrCreate()\n",
        "\n",
        "\n",
        "\n",
        "# Initialize SparkSession with Hadoop Azure dependency\n",
        "spark = (\n",
        "    SparkSession.builder\n",
        "    .appName(\"TF-IDF-Document-Classification\")\n",
        "    .config(\"spark.jars.packages\",\n",
        "            \"org.apache.hadoop:hadoop-azure:3.3.1,\"\n",
        "            \"com.microsoft.azure:azure-storage:8.6.6\")\n",
        "    .config(\"spark.hadoop.fs.azure.account.key.classifydocsdlsgen2.blob.core.windows.net\", \"<storagekey>\")\n",
        "    .getOrCreate()\n",
        ")\n",
        "\n",
        "\n",
        "\n",
        "# Load millions of docs into Spark DataFrame: (id, text, label)\n",
        "df = spark.read.json(\"abfss://docs@mydatalake.dfs.core.windows.net/documents.json\")\n",
        "\n",
        "# Tokenize\n",
        "tokenizer = Tokenizer(inputCol=\"text\", outputCol=\"words\")\n",
        "\n",
        "# TF step\n",
        "hashingTF = HashingTF(inputCol=\"words\", outputCol=\"rawFeatures\", numFeatures=100000)\n",
        "\n",
        "# IDF step\n",
        "idf = IDF(inputCol=\"rawFeatures\", outputCol=\"features\")\n",
        "\n",
        "# Logistic Regression\n",
        "lr = LogisticRegression(maxIter=20, regParam=0.01)\n",
        "\n",
        "# Build pipeline\n",
        "pipeline = Pipeline(stages=[tokenizer, hashingTF, idf, lr])\n",
        "\n",
        "# Train model\n",
        "model = pipeline.fit(df)\n",
        "\n",
        "# Predict\n",
        "predictions = model.transform(df)"
      ]
    }
  ]
}