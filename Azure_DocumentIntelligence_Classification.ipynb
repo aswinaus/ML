{
  "nbformat": 4,
  "nbformat_minor": 0,
  "metadata": {
    "colab": {
      "provenance": [],
      "authorship_tag": "ABX9TyPw5EFPxQNpIgqm8n9rIUyu",
      "include_colab_link": true
    },
    "kernelspec": {
      "name": "python3",
      "display_name": "Python 3"
    },
    "language_info": {
      "name": "python"
    }
  },
  "cells": [
    {
      "cell_type": "markdown",
      "metadata": {
        "id": "view-in-github",
        "colab_type": "text"
      },
      "source": [
        "<a href=\"https://colab.research.google.com/github/aswinaus/ML/blob/main/Azure_DocumentIntelligence_Classification.ipynb\" target=\"_parent\"><img src=\"https://colab.research.google.com/assets/colab-badge.svg\" alt=\"Open In Colab\"/></a>"
      ]
    },
    {
      "cell_type": "code",
      "metadata": {
        "id": "91de1acc"
      },
      "source": [
        "%pip install azure-ai-formrecognizer openai"
      ],
      "execution_count": null,
      "outputs": []
    },
    {
      "cell_type": "code",
      "metadata": {
        "colab": {
          "base_uri": "https://localhost:8080/"
        },
        "id": "cac13c24",
        "outputId": "2bd29622-f50c-4e80-90f7-beefb4c5b06c"
      },
      "source": [
        "# Step 1: Parse document using Azure Document Intelligence\n",
        "from azure.ai.formrecognizer import DocumentAnalysisClient\n",
        "from azure.core.credentials import AzureKeyCredential\n",
        "from openai import OpenAI\n",
        "\n",
        "# Replace with your actual access token\n",
        "from google.colab import userdata\n",
        "DOCUMENTINTEL_KEY = userdata.get('DOCUMENTINTEL_KEY')\n",
        "\n",
        "OPENAI_API_KEY = userdata.get('OPENAI_API_KEY')\n",
        "\n",
        "import nest_asyncio\n",
        "nest_asyncio.apply()\n",
        "\n",
        "\n",
        "from google.colab import drive\n",
        "drive.mount('/content/drive')\n",
        "\n",
        "data_dir = '/content/drive/MyDrive' # Input a data dir path from your mounted Google Drive\n",
        "\n",
        "# Azure Document Intelligence setup\n",
        "endpoint = \"https://documentsclassifier.cognitiveservices.azure.com/\"\n",
        "key = documentintelligence_token\n",
        "\n",
        "document_analysis_client = DocumentAnalysisClient(\n",
        "    endpoint=endpoint,\n",
        "    credential=AzureKeyCredential(DOCUMENTINTEL_KEY)\n",
        ")\n",
        "\n",
        "# Analyze a document\n",
        "with open(f\"{data_dir}/RAG/data/10k/lyft_10k_2023.pdf\", \"rb\") as f:\n",
        "    poller = document_analysis_client.begin_analyze_document(\"prebuilt-document\", document=f)\n",
        "result = poller.result()\n",
        "\n",
        "# Extract text from document\n",
        "#extracted_text = \"\\n\".join([page.content for page in result.pages])\n",
        "extracted_text=result.content\n",
        "\n",
        "# Step 2: Send extracted content to GPT for classification\n",
        "client = OpenAI(api_key=OPENAI_API_KEY)\n",
        "\n",
        "prompt = f\"\"\"\n",
        "Classify the following document text into an appropriate category.\n",
        "If the document is not related to any of these categories, classify it as \"Other\".\n",
        "If the document is classified as \"Other\", provide a reason why.\n",
        "Return JSON with fields: category, confidence, description\n",
        "\n",
        "Document:\n",
        "{extracted_text}\n",
        "\"\"\"\n",
        "\n",
        "response = client.chat.completions.create(\n",
        "    model=\"gpt-4o\",  # or \"gpt-4.0\"\n",
        "    messages=[{\"role\": \"user\", \"content\": prompt}]\n",
        ")\n",
        "\n",
        "print(response.choices[0].message.content)"
      ],
      "execution_count": 4,
      "outputs": [
        {
          "output_type": "stream",
          "name": "stdout",
          "text": [
            "Drive already mounted at /content/drive; to attempt to forcibly remount, call drive.mount(\"/content/drive\", force_remount=True).\n",
            "```json\n",
            "{\n",
            "  \"category\": \"Finance\",\n",
            "  \"confidence\": 0.95,\n",
            "  \"description\": \"The document is a Form 10-K, which is an annual report filed by publicly traded companies with the United States Securities and Exchange Commission (SEC). It contains comprehensive information about the company's financial performance, management discussion, risk factors, and other important business details. Such documents are essential in the field of finance as they provide transparency and insights for investors and analysts.\"\n",
            "}\n",
            "```\n"
          ]
        }
      ]
    }
  ]
}