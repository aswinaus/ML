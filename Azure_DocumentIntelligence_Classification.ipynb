{
  "nbformat": 4,
  "nbformat_minor": 0,
  "metadata": {
    "colab": {
      "provenance": [],
      "authorship_tag": "ABX9TyPlTuuWhWnwA5GYs99sjhpl",
      "include_colab_link": true
    },
    "kernelspec": {
      "name": "python3",
      "display_name": "Python 3"
    },
    "language_info": {
      "name": "python"
    }
  },
  "cells": [
    {
      "cell_type": "markdown",
      "metadata": {
        "id": "view-in-github",
        "colab_type": "text"
      },
      "source": [
        "<a href=\"https://colab.research.google.com/github/aswinaus/ML/blob/main/Azure_DocumentIntelligence_Classification.ipynb\" target=\"_parent\"><img src=\"https://colab.research.google.com/assets/colab-badge.svg\" alt=\"Open In Colab\"/></a>"
      ]
    },
    {
      "cell_type": "code",
      "metadata": {
        "id": "91de1acc"
      },
      "source": [
        "%pip install azure-ai-formrecognizer openai"
      ],
      "execution_count": null,
      "outputs": []
    },
    {
      "cell_type": "code",
      "metadata": {
        "colab": {
          "base_uri": "https://localhost:8080/"
        },
        "id": "cac13c24",
        "outputId": "01bd859e-f0c3-4fbe-d807-b94e2752cbb2"
      },
      "source": [
        "# Step 1: Parse document using Azure Document Intelligence\n",
        "from azure.ai.formrecognizer import DocumentAnalysisClient\n",
        "from azure.core.credentials import AzureKeyCredential\n",
        "from openai import OpenAI\n",
        "\n",
        "# Replace with your actual access token\n",
        "from google.colab import userdata\n",
        "DOCUMENTINTEL_KEY = userdata.get('DOCUMENTINTEL_KEY')\n",
        "\n",
        "OPENAI_API_KEY = userdata.get('OPENAI_API_KEY')\n",
        "\n",
        "import nest_asyncio\n",
        "nest_asyncio.apply()\n",
        "\n",
        "\n",
        "from google.colab import drive\n",
        "drive.mount('/content/drive')\n",
        "\n",
        "data_dir = '/content/drive/MyDrive' # Input a data dir path from your mounted Google Drive\n",
        "\n",
        "# Azure Document Intelligence setup\n",
        "endpoint = \"https://documentsclassifier.cognitiveservices.azure.com/\"\n",
        "key = DOCUMENTINTEL_KEY\n",
        "\n",
        "document_analysis_client = DocumentAnalysisClient(\n",
        "    endpoint=endpoint,\n",
        "    credential=AzureKeyCredential(DOCUMENTINTEL_KEY)\n",
        ")\n",
        "\n",
        "# Analyze a document\n",
        "with open(f\"{data_dir}/RAG/data/10k/lyft_10k_2023.pdf\", \"rb\") as f:\n",
        "    # This is the name of the pre-trained model being used for the analysis. Azure Document Intelligence provides various pre-built models for different document types (like invoices, receipts, identity documents, etc.).\n",
        "    # In this case \"prebuilt-document\" is a general-purpose model that can extract text, layout\n",
        "    # and other key information from various types of documents.\n",
        "    poller = document_analysis_client.begin_analyze_document(\"prebuilt-document\", document=f)\n",
        "    #document=f: This argument provides the document to be analyzed. f is a file handle representing the opened file.\n",
        "result = poller.result()\n",
        "\n",
        "# Extract text from document\n",
        "#extracted_text = \"\\n\".join([page.content for page in result.pages])\n",
        "extracted_text=result.content\n",
        "\n",
        "# Step 2: Send extracted content to GPT for classification\n",
        "client = OpenAI(api_key=OPENAI_API_KEY)\n",
        "\n",
        "prompt = f\"\"\"\n",
        "Given the following document text, analyze its content.\n",
        "Identify the underlying financial or tax-related theme, such as compliance, reporting, audit, accounting, policy, corporate finance, personal taxation, investment\n",
        "or regulatory matters.\n",
        "If there is a subcategory then make sure subcatgory is included as comma separted values in the response.\n",
        "On this analysis classify the document into the most appropriate financial or tax-related category\n",
        "that best represents its primary subject matter.\n",
        "Also return the number of pages.\n",
        "include the precide page number where Tax or related  content occurs in the documents.\n",
        "If the above exists in more than one page have it displayed as comma separated like 1,2\n",
        "Return JSON with fields: category, confidence, description, Number of Pages, Page Number.\n",
        "And make sure subcategory is included in the response.\n",
        "Document:\n",
        "{extracted_text}\n",
        "\"\"\"\n",
        "\n",
        "response = client.chat.completions.create(\n",
        "    model=\"gpt-4o\",  # or \"gpt-4.0\"\n",
        "    messages=[{\"role\": \"user\", \"content\": prompt}]\n",
        ")\n",
        "\n",
        "print(response.choices[0].message.content)"
      ],
      "execution_count": 7,
      "outputs": [
        {
          "output_type": "stream",
          "name": "stdout",
          "text": [
            "Drive already mounted at /content/drive; to attempt to forcibly remount, call drive.mount(\"/content/drive\", force_remount=True).\n",
            "```json\n",
            "{\n",
            "  \"category\": \"Regulatory Matters\",\n",
            "  \"confidence\": \"High\",\n",
            "  \"description\": \"The document is an SEC Form 10-K, which is an annual report filed by public companies in the United States. The primary subject matter relates to regulatory compliance requirements under the Securities Exchange Act of 1934, including sections about business operations, risk factors, financial statements, and other disclosures.\",\n",
            "  \"Number of Pages\": 2,\n",
            "  \"Page Number\": \"1\"\n",
            "}\n",
            "```\n"
          ]
        }
      ]
    }
  ]
}